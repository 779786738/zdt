{
  "nbformat": 4,
  "nbformat_minor": 0,
  "metadata": {
    "kernelspec": {
      "display_name": "Python 3",
      "language": "python",
      "name": "python3"
    },
    "language_info": {
      "codemirror_mode": {
        "name": "ipython",
        "version": 3
      },
      "file_extension": ".py",
      "mimetype": "text/x-python",
      "name": "python",
      "nbconvert_exporter": "python",
      "pygments_lexer": "ipython3",
      "version": "3.8.3"
    },
    "colab": {
      "name": "pipeline_test.ipynb",
      "provenance": [],
      "include_colab_link": true
    }
  },
  "cells": [
    {
      "cell_type": "markdown",
      "metadata": {
        "id": "view-in-github",
        "colab_type": "text"
      },
      "source": [
        "<a href=\"https://colab.research.google.com/github/779786738/zdt/blob/main/pipeline_test.ipynb\" target=\"_parent\"><img src=\"https://colab.research.google.com/assets/colab-badge.svg\" alt=\"Open In Colab\"/></a>"
      ]
    },
    {
      "cell_type": "markdown",
      "metadata": {
        "id": "TBqiuMUIqrgK"
      },
      "source": [
        "This file is used to test for pipeline from sklearn"
      ]
    },
    {
      "cell_type": "code",
      "metadata": {
        "id": "XyirquLnqrgM"
      },
      "source": [
        "from sklearn.pipeline import Pipeline\n",
        "from sklearn.svm import SVC\n",
        "from sklearn.decomposition import PCA\n",
        "from sklearn.pipeline import make_pipeline\n",
        "from sklearn.naive_bayes import MultinomialNB\n",
        "from sklearn.preprocessing import Binarizer\n",
        "from sklearn.model_selection import GridSearchCV\n",
        "from sklearn.model_selection import train_test_split\n",
        "from sklearn.ensemble import RandomForestClassifier\n",
        "from sklearn.preprocessing import StandardScaler\n",
        "from sklearn.model_selection import cross_val_score\n",
        "\n",
        "import pandas as pd\n",
        "import numpy as np"
      ],
      "execution_count": null,
      "outputs": []
    },
    {
      "cell_type": "code",
      "metadata": {
        "id": "FSsICwwGqrgP",
        "outputId": "0aca50ec-7f88-45ef-f091-c039771ec697"
      },
      "source": [
        "data = pd.read_excel(\"attribute_rand.xlsx\")\n",
        "data.head()"
      ],
      "execution_count": null,
      "outputs": [
        {
          "output_type": "execute_result",
          "data": {
            "text/html": [
              "<div>\n",
              "<style scoped>\n",
              "    .dataframe tbody tr th:only-of-type {\n",
              "        vertical-align: middle;\n",
              "    }\n",
              "\n",
              "    .dataframe tbody tr th {\n",
              "        vertical-align: top;\n",
              "    }\n",
              "\n",
              "    .dataframe thead th {\n",
              "        text-align: right;\n",
              "    }\n",
              "</style>\n",
              "<table border=\"1\" class=\"dataframe\">\n",
              "  <thead>\n",
              "    <tr style=\"text-align: right;\">\n",
              "      <th></th>\n",
              "      <th>*机器人ID</th>\n",
              "      <th>*周期开始时间</th>\n",
              "      <th>*周期终止时间</th>\n",
              "      <th>*机器人型号</th>\n",
              "      <th>App版本</th>\n",
              "      <th>*伺服版本</th>\n",
              "      <th>*控制器版本</th>\n",
              "      <th>*SCB版本</th>\n",
              "      <th>负载信息</th>\n",
              "      <th>运行程序</th>\n",
              "      <th>...</th>\n",
              "      <th>关节2平均电流</th>\n",
              "      <th>关节3平均温度</th>\n",
              "      <th>关节3平均电流</th>\n",
              "      <th>关节4平均温度</th>\n",
              "      <th>关节4平均电流</th>\n",
              "      <th>关节5平均温度</th>\n",
              "      <th>关节5平均电流</th>\n",
              "      <th>关节6平均温度</th>\n",
              "      <th>关节6平均电流</th>\n",
              "      <th>*是否需要维护</th>\n",
              "    </tr>\n",
              "  </thead>\n",
              "  <tbody>\n",
              "    <tr>\n",
              "      <th>0</th>\n",
              "      <td>Zu7250408</td>\n",
              "      <td>2021/5/10 17:00:00</td>\n",
              "      <td>2021/5/10 17:00:00</td>\n",
              "      <td>Zu7</td>\n",
              "      <td>1.5.12.9</td>\n",
              "      <td>R-6.10_2.173</td>\n",
              "      <td>1.5.12_20_cab2_1</td>\n",
              "      <td>02_32</td>\n",
              "      <td>7kg</td>\n",
              "      <td>测试标准程序</td>\n",
              "      <td>...</td>\n",
              "      <td>-0.022578</td>\n",
              "      <td>0.409912</td>\n",
              "      <td>0.016545</td>\n",
              "      <td>0.457142</td>\n",
              "      <td>-0.051728</td>\n",
              "      <td>0.459961</td>\n",
              "      <td>-0.002683</td>\n",
              "      <td>0.458511</td>\n",
              "      <td>0.045177</td>\n",
              "      <td>0</td>\n",
              "    </tr>\n",
              "    <tr>\n",
              "      <th>1</th>\n",
              "      <td>Zu7250408</td>\n",
              "      <td>2021/5/10 17:00:00</td>\n",
              "      <td>2021/5/10 17:00:00</td>\n",
              "      <td>Zu7</td>\n",
              "      <td>1.5.12.9</td>\n",
              "      <td>R-6.10_2.173</td>\n",
              "      <td>1.5.12_20_cab2_1</td>\n",
              "      <td>02_32</td>\n",
              "      <td>7kg</td>\n",
              "      <td>测试标准程序</td>\n",
              "      <td>...</td>\n",
              "      <td>-0.022998</td>\n",
              "      <td>0.402282</td>\n",
              "      <td>0.016135</td>\n",
              "      <td>0.450023</td>\n",
              "      <td>-0.051827</td>\n",
              "      <td>0.459961</td>\n",
              "      <td>-0.003102</td>\n",
              "      <td>0.454021</td>\n",
              "      <td>0.045325</td>\n",
              "      <td>0</td>\n",
              "    </tr>\n",
              "    <tr>\n",
              "      <th>2</th>\n",
              "      <td>Zu7250408</td>\n",
              "      <td>2021/5/10 17:00:00</td>\n",
              "      <td>2021/5/10 17:00:00</td>\n",
              "      <td>Zu7</td>\n",
              "      <td>1.5.12.9</td>\n",
              "      <td>R-6.10_2.173</td>\n",
              "      <td>1.5.12_20_cab2_1</td>\n",
              "      <td>02_32</td>\n",
              "      <td>7kg</td>\n",
              "      <td>测试标准程序</td>\n",
              "      <td>...</td>\n",
              "      <td>-0.465866</td>\n",
              "      <td>0.917280</td>\n",
              "      <td>0.948762</td>\n",
              "      <td>0.285078</td>\n",
              "      <td>-0.996631</td>\n",
              "      <td>0.182651</td>\n",
              "      <td>-0.986076</td>\n",
              "      <td>0.116339</td>\n",
              "      <td>0.765421</td>\n",
              "      <td>1</td>\n",
              "    </tr>\n",
              "    <tr>\n",
              "      <th>3</th>\n",
              "      <td>Zu7250408</td>\n",
              "      <td>2021/5/10 17:00:00</td>\n",
              "      <td>2021/5/10 17:00:00</td>\n",
              "      <td>Zu7</td>\n",
              "      <td>1.5.12.9</td>\n",
              "      <td>R-6.10_2.173</td>\n",
              "      <td>1.5.12_20_cab2_1</td>\n",
              "      <td>02_32</td>\n",
              "      <td>7kg</td>\n",
              "      <td>测试标准程序</td>\n",
              "      <td>...</td>\n",
              "      <td>-0.039656</td>\n",
              "      <td>0.663917</td>\n",
              "      <td>0.758987</td>\n",
              "      <td>0.158311</td>\n",
              "      <td>-0.027287</td>\n",
              "      <td>0.286115</td>\n",
              "      <td>-0.201720</td>\n",
              "      <td>0.215852</td>\n",
              "      <td>0.251544</td>\n",
              "      <td>1</td>\n",
              "    </tr>\n",
              "    <tr>\n",
              "      <th>4</th>\n",
              "      <td>Zu7250408</td>\n",
              "      <td>2021/5/10 17:00:00</td>\n",
              "      <td>2021/5/10 17:00:00</td>\n",
              "      <td>Zu7</td>\n",
              "      <td>1.5.12.9</td>\n",
              "      <td>R-6.10_2.173</td>\n",
              "      <td>1.5.12_20_cab2_1</td>\n",
              "      <td>02_32</td>\n",
              "      <td>7kg</td>\n",
              "      <td>测试标准程序</td>\n",
              "      <td>...</td>\n",
              "      <td>-0.206929</td>\n",
              "      <td>0.690994</td>\n",
              "      <td>0.468549</td>\n",
              "      <td>0.821313</td>\n",
              "      <td>-0.573453</td>\n",
              "      <td>0.374602</td>\n",
              "      <td>-0.417447</td>\n",
              "      <td>0.466436</td>\n",
              "      <td>0.690874</td>\n",
              "      <td>0</td>\n",
              "    </tr>\n",
              "  </tbody>\n",
              "</table>\n",
              "<p>5 rows × 48 columns</p>\n",
              "</div>"
            ],
            "text/plain": [
              "      *机器人ID             *周期开始时间             *周期终止时间 *机器人型号     App版本  \\\n",
              "0  Zu7250408  2021/5/10 17:00:00  2021/5/10 17:00:00    Zu7  1.5.12.9   \n",
              "1  Zu7250408  2021/5/10 17:00:00  2021/5/10 17:00:00    Zu7  1.5.12.9   \n",
              "2  Zu7250408  2021/5/10 17:00:00  2021/5/10 17:00:00    Zu7  1.5.12.9   \n",
              "3  Zu7250408  2021/5/10 17:00:00  2021/5/10 17:00:00    Zu7  1.5.12.9   \n",
              "4  Zu7250408  2021/5/10 17:00:00  2021/5/10 17:00:00    Zu7  1.5.12.9   \n",
              "\n",
              "          *伺服版本            *控制器版本 *SCB版本 负载信息    运行程序  ...   关节2平均电流  \\\n",
              "0  R-6.10_2.173  1.5.12_20_cab2_1  02_32  7kg  测试标准程序  ... -0.022578   \n",
              "1  R-6.10_2.173  1.5.12_20_cab2_1  02_32  7kg  测试标准程序  ... -0.022998   \n",
              "2  R-6.10_2.173  1.5.12_20_cab2_1  02_32  7kg  测试标准程序  ... -0.465866   \n",
              "3  R-6.10_2.173  1.5.12_20_cab2_1  02_32  7kg  测试标准程序  ... -0.039656   \n",
              "4  R-6.10_2.173  1.5.12_20_cab2_1  02_32  7kg  测试标准程序  ... -0.206929   \n",
              "\n",
              "    关节3平均温度   关节3平均电流   关节4平均温度   关节4平均电流   关节5平均温度   关节5平均电流   关节6平均温度  \\\n",
              "0  0.409912  0.016545  0.457142 -0.051728  0.459961 -0.002683  0.458511   \n",
              "1  0.402282  0.016135  0.450023 -0.051827  0.459961 -0.003102  0.454021   \n",
              "2  0.917280  0.948762  0.285078 -0.996631  0.182651 -0.986076  0.116339   \n",
              "3  0.663917  0.758987  0.158311 -0.027287  0.286115 -0.201720  0.215852   \n",
              "4  0.690994  0.468549  0.821313 -0.573453  0.374602 -0.417447  0.466436   \n",
              "\n",
              "    关节6平均电流  *是否需要维护  \n",
              "0  0.045177        0  \n",
              "1  0.045325        0  \n",
              "2  0.765421        1  \n",
              "3  0.251544        1  \n",
              "4  0.690874        0  \n",
              "\n",
              "[5 rows x 48 columns]"
            ]
          },
          "metadata": {
            "tags": []
          },
          "execution_count": 38
        }
      ]
    },
    {
      "cell_type": "code",
      "metadata": {
        "id": "LOUYcErdqrgU",
        "outputId": "e89c8786-0334-4eaf-83d4-075d52fe93f1"
      },
      "source": [
        "data.shape"
      ],
      "execution_count": null,
      "outputs": [
        {
          "output_type": "execute_result",
          "data": {
            "text/plain": [
              "(48, 48)"
            ]
          },
          "metadata": {
            "tags": []
          },
          "execution_count": 13
        }
      ]
    },
    {
      "cell_type": "code",
      "metadata": {
        "id": "TbLfQyZoqrgV"
      },
      "source": [
        "input_X = data.iloc[:,11:-1]\n",
        "input_Y = data.iloc[:,-1]\n",
        "X_train, X_test, y_train, y_test = train_test_split(input_X, input_Y, test_size=.2, random_state=0)"
      ],
      "execution_count": null,
      "outputs": []
    },
    {
      "cell_type": "code",
      "metadata": {
        "id": "omWE328QqrgX",
        "outputId": "e0b532e1-c45d-4d2f-e188-5d27a96a6b4e"
      },
      "source": [
        "estimator = []\n",
        "estimator.append(('standardize', StandardScaler()))\n",
        "estimator.append(('pca', PCA(n_components=3)))\n",
        "estimator.append(('randomForest', RandomForestClassifier(n_estimators=50, \n",
        "                                                         criterion='gini', max_depth=660, \n",
        "                                                         min_samples_split=5, \n",
        "                                                         min_samples_leaf=5)))\n",
        "\n",
        "pipe = Pipeline(estimator)\n",
        "pipe"
      ],
      "execution_count": null,
      "outputs": [
        {
          "output_type": "execute_result",
          "data": {
            "text/plain": [
              "Pipeline(steps=[('standardize', StandardScaler()), ('pca', PCA(n_components=3)),\n",
              "                ('randomForest',\n",
              "                 RandomForestClassifier(max_depth=660, min_samples_leaf=5,\n",
              "                                        min_samples_split=5,\n",
              "                                        n_estimators=50))])"
            ]
          },
          "metadata": {
            "tags": []
          },
          "execution_count": 111
        }
      ]
    },
    {
      "cell_type": "code",
      "metadata": {
        "id": "qSQWRMLuqrgY",
        "outputId": "27d7902c-e05c-4f16-d0e6-f1c10bce31db"
      },
      "source": [
        "results = cross_val_score(pipe, input_X, input_Y)\n",
        "print(results.mean())"
      ],
      "execution_count": null,
      "outputs": [
        {
          "output_type": "stream",
          "text": [
            "0.44000000000000006\n"
          ],
          "name": "stdout"
        }
      ]
    },
    {
      "cell_type": "code",
      "metadata": {
        "id": "SVhsL7E3qrga",
        "outputId": "d93b329c-5964-4082-8162-9e8a9dec08b3"
      },
      "source": [
        "t1 = pipe.fit(X_train, y_train)\n",
        "\n",
        "print(t1.score(X_train, y_train), t1.score(X_test, y_test))"
      ],
      "execution_count": null,
      "outputs": [
        {
          "output_type": "stream",
          "text": [
            "0.8421052631578947 0.5\n"
          ],
          "name": "stdout"
        }
      ]
    },
    {
      "cell_type": "code",
      "metadata": {
        "id": "l29aTwHTqrgb"
      },
      "source": [
        "import sqlite3"
      ],
      "execution_count": null,
      "outputs": []
    },
    {
      "cell_type": "code",
      "metadata": {
        "id": "77Fneff_qrgc"
      },
      "source": [
        ""
      ],
      "execution_count": null,
      "outputs": []
    }
  ]
}