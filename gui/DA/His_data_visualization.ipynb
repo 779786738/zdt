{
 "cells": [
  {
   "cell_type": "code",
   "execution_count": 1,
   "metadata": {
    "ExecuteTime": {
     "end_time": "2021-08-22T12:41:38.834122Z",
     "start_time": "2021-08-22T12:41:34.798954Z"
    }
   },
   "outputs": [],
   "source": [
    "import pandas as pd\n",
    "import numpy as np\n",
    "import matplotlib.pyplot as plt\n",
    "import seaborn as sns"
   ]
  },
  {
   "cell_type": "code",
   "execution_count": 2,
   "metadata": {
    "ExecuteTime": {
     "end_time": "2021-08-22T12:41:38.865042Z",
     "start_time": "2021-08-22T12:41:38.837117Z"
    }
   },
   "outputs": [],
   "source": [
    "data = pd.read_csv('hist_data_0823.csv',index_col=0)"
   ]
  },
  {
   "cell_type": "code",
   "execution_count": 3,
   "metadata": {
    "ExecuteTime": {
     "end_time": "2021-08-22T12:41:39.022638Z",
     "start_time": "2021-08-22T12:41:38.871025Z"
    }
   },
   "outputs": [
    {
     "data": {
      "text/html": [
       "<div>\n",
       "<style scoped>\n",
       "    .dataframe tbody tr th:only-of-type {\n",
       "        vertical-align: middle;\n",
       "    }\n",
       "\n",
       "    .dataframe tbody tr th {\n",
       "        vertical-align: top;\n",
       "    }\n",
       "\n",
       "    .dataframe thead th {\n",
       "        text-align: right;\n",
       "    }\n",
       "</style>\n",
       "<table border=\"1\" class=\"dataframe\">\n",
       "  <thead>\n",
       "    <tr style=\"text-align: right;\">\n",
       "      <th></th>\n",
       "      <th>sum_running_time</th>\n",
       "      <th>avg_inst_temperature</th>\n",
       "      <th>sum_running_circles</th>\n",
       "      <th>avg_current_fluctuation</th>\n",
       "      <th>joint</th>\n",
       "    </tr>\n",
       "  </thead>\n",
       "  <tbody>\n",
       "    <tr>\n",
       "      <th>count</th>\n",
       "      <td>2.640000e+02</td>\n",
       "      <td>264.000000</td>\n",
       "      <td>2.640000e+02</td>\n",
       "      <td>264.000000</td>\n",
       "      <td>264.000000</td>\n",
       "    </tr>\n",
       "    <tr>\n",
       "      <th>mean</th>\n",
       "      <td>5.756743e+06</td>\n",
       "      <td>49.992925</td>\n",
       "      <td>8.474268e+05</td>\n",
       "      <td>7.499195</td>\n",
       "      <td>3.500000</td>\n",
       "    </tr>\n",
       "    <tr>\n",
       "      <th>std</th>\n",
       "      <td>6.324878e+06</td>\n",
       "      <td>5.950413</td>\n",
       "      <td>2.778664e+06</td>\n",
       "      <td>7.103108</td>\n",
       "      <td>1.711069</td>\n",
       "    </tr>\n",
       "    <tr>\n",
       "      <th>min</th>\n",
       "      <td>5.805800e+04</td>\n",
       "      <td>28.932258</td>\n",
       "      <td>1.543350e+04</td>\n",
       "      <td>0.019069</td>\n",
       "      <td>1.000000</td>\n",
       "    </tr>\n",
       "    <tr>\n",
       "      <th>25%</th>\n",
       "      <td>2.442365e+05</td>\n",
       "      <td>48.062039</td>\n",
       "      <td>1.304857e+05</td>\n",
       "      <td>0.915967</td>\n",
       "      <td>2.000000</td>\n",
       "    </tr>\n",
       "    <tr>\n",
       "      <th>50%</th>\n",
       "      <td>1.482480e+06</td>\n",
       "      <td>51.136994</td>\n",
       "      <td>2.910973e+05</td>\n",
       "      <td>6.982610</td>\n",
       "      <td>3.500000</td>\n",
       "    </tr>\n",
       "    <tr>\n",
       "      <th>75%</th>\n",
       "      <td>1.062980e+07</td>\n",
       "      <td>53.429440</td>\n",
       "      <td>8.542852e+05</td>\n",
       "      <td>12.488421</td>\n",
       "      <td>5.000000</td>\n",
       "    </tr>\n",
       "    <tr>\n",
       "      <th>max</th>\n",
       "      <td>2.365435e+07</td>\n",
       "      <td>77.023590</td>\n",
       "      <td>4.294966e+07</td>\n",
       "      <td>45.724101</td>\n",
       "      <td>6.000000</td>\n",
       "    </tr>\n",
       "  </tbody>\n",
       "</table>\n",
       "</div>"
      ],
      "text/plain": [
       "       sum_running_time  avg_inst_temperature  sum_running_circles  \\\n",
       "count      2.640000e+02            264.000000         2.640000e+02   \n",
       "mean       5.756743e+06             49.992925         8.474268e+05   \n",
       "std        6.324878e+06              5.950413         2.778664e+06   \n",
       "min        5.805800e+04             28.932258         1.543350e+04   \n",
       "25%        2.442365e+05             48.062039         1.304857e+05   \n",
       "50%        1.482480e+06             51.136994         2.910973e+05   \n",
       "75%        1.062980e+07             53.429440         8.542852e+05   \n",
       "max        2.365435e+07             77.023590         4.294966e+07   \n",
       "\n",
       "       avg_current_fluctuation       joint  \n",
       "count               264.000000  264.000000  \n",
       "mean                  7.499195    3.500000  \n",
       "std                   7.103108    1.711069  \n",
       "min                   0.019069    1.000000  \n",
       "25%                   0.915967    2.000000  \n",
       "50%                   6.982610    3.500000  \n",
       "75%                  12.488421    5.000000  \n",
       "max                  45.724101    6.000000  "
      ]
     },
     "execution_count": 3,
     "metadata": {},
     "output_type": "execute_result"
    }
   ],
   "source": [
    "data.describe()"
   ]
  },
  {
   "cell_type": "code",
   "execution_count": 4,
   "metadata": {
    "ExecuteTime": {
     "end_time": "2021-08-22T12:41:39.162246Z",
     "start_time": "2021-08-22T12:41:39.029601Z"
    }
   },
   "outputs": [
    {
     "data": {
      "text/html": [
       "<div>\n",
       "<style scoped>\n",
       "    .dataframe tbody tr th:only-of-type {\n",
       "        vertical-align: middle;\n",
       "    }\n",
       "\n",
       "    .dataframe tbody tr th {\n",
       "        vertical-align: top;\n",
       "    }\n",
       "\n",
       "    .dataframe thead th {\n",
       "        text-align: right;\n",
       "    }\n",
       "</style>\n",
       "<table border=\"1\" class=\"dataframe\">\n",
       "  <thead>\n",
       "    <tr style=\"text-align: right;\">\n",
       "      <th></th>\n",
       "      <th>sum_running_time</th>\n",
       "      <th>avg_inst_temperature</th>\n",
       "      <th>sum_running_circles</th>\n",
       "      <th>avg_current_fluctuation</th>\n",
       "    </tr>\n",
       "    <tr>\n",
       "      <th>joint</th>\n",
       "      <th></th>\n",
       "      <th></th>\n",
       "      <th></th>\n",
       "      <th></th>\n",
       "    </tr>\n",
       "  </thead>\n",
       "  <tbody>\n",
       "    <tr>\n",
       "      <th>1</th>\n",
       "      <td>5.756743e+06</td>\n",
       "      <td>48.156911</td>\n",
       "      <td>1.564068e+06</td>\n",
       "      <td>7.291246</td>\n",
       "    </tr>\n",
       "    <tr>\n",
       "      <th>2</th>\n",
       "      <td>5.756743e+06</td>\n",
       "      <td>50.679327</td>\n",
       "      <td>6.719477e+05</td>\n",
       "      <td>8.632784</td>\n",
       "    </tr>\n",
       "    <tr>\n",
       "      <th>3</th>\n",
       "      <td>5.756743e+06</td>\n",
       "      <td>46.777115</td>\n",
       "      <td>8.070976e+05</td>\n",
       "      <td>7.597175</td>\n",
       "    </tr>\n",
       "    <tr>\n",
       "      <th>4</th>\n",
       "      <td>5.756743e+06</td>\n",
       "      <td>50.448637</td>\n",
       "      <td>8.976358e+05</td>\n",
       "      <td>7.977398</td>\n",
       "    </tr>\n",
       "    <tr>\n",
       "      <th>5</th>\n",
       "      <td>5.756743e+06</td>\n",
       "      <td>52.097220</td>\n",
       "      <td>4.791299e+05</td>\n",
       "      <td>6.867133</td>\n",
       "    </tr>\n",
       "    <tr>\n",
       "      <th>6</th>\n",
       "      <td>5.756743e+06</td>\n",
       "      <td>51.798341</td>\n",
       "      <td>6.646815e+05</td>\n",
       "      <td>6.629433</td>\n",
       "    </tr>\n",
       "  </tbody>\n",
       "</table>\n",
       "</div>"
      ],
      "text/plain": [
       "       sum_running_time  avg_inst_temperature  sum_running_circles  \\\n",
       "joint                                                                \n",
       "1          5.756743e+06             48.156911         1.564068e+06   \n",
       "2          5.756743e+06             50.679327         6.719477e+05   \n",
       "3          5.756743e+06             46.777115         8.070976e+05   \n",
       "4          5.756743e+06             50.448637         8.976358e+05   \n",
       "5          5.756743e+06             52.097220         4.791299e+05   \n",
       "6          5.756743e+06             51.798341         6.646815e+05   \n",
       "\n",
       "       avg_current_fluctuation  \n",
       "joint                           \n",
       "1                     7.291246  \n",
       "2                     8.632784  \n",
       "3                     7.597175  \n",
       "4                     7.977398  \n",
       "5                     6.867133  \n",
       "6                     6.629433  "
      ]
     },
     "execution_count": 4,
     "metadata": {},
     "output_type": "execute_result"
    }
   ],
   "source": [
    "data.groupby('joint').mean()"
   ]
  },
  {
   "cell_type": "code",
   "execution_count": 13,
   "metadata": {
    "ExecuteTime": {
     "end_time": "2021-08-22T12:44:27.171885Z",
     "start_time": "2021-08-22T12:44:24.544912Z"
    }
   },
   "outputs": [
    {
     "data": {
      "text/plain": [
       "<matplotlib.axes._subplots.AxesSubplot at 0x205fc423400>"
      ]
     },
     "execution_count": 13,
     "metadata": {},
     "output_type": "execute_result"
    },
    {
     "data": {
      "image/png": "[encoded data removed]",
      "text/plain": [
       "<Figure size 2160x720 with 1 Axes>"
      ]
     },
     "metadata": {
      "needs_background": "light"
     },
     "output_type": "display_data"
    }
   ],
   "source": [
    "plt.figure(figsize=(30,10))\n",
    "sns.barplot(x=data.robot_id,y=data.sum_running_time)"
   ]
  },
  {
   "cell_type": "code",
   "execution_count": 5,
   "metadata": {
    "ExecuteTime": {
     "end_time": "2021-08-22T12:41:39.768624Z",
     "start_time": "2021-08-22T12:41:39.169227Z"
    }
   },
   "outputs": [
    {
     "data": {
      "text/plain": [
       "<matplotlib.axes._subplots.AxesSubplot at 0x205fb132b80>"
      ]
     },
     "execution_count": 5,
     "metadata": {},
     "output_type": "execute_result"
    },
    {
     "data": {
      "image/png": "[encoded data removed]",
      "text/plain": [
       "<Figure size 432x288 with 1 Axes>"
      ]
     },
     "metadata": {
      "needs_background": "light"
     },
     "output_type": "display_data"
    }
   ],
   "source": [
    "sns.boxplot(x='joint',y='avg_current_fluctuation',data=data)\n",
    "plt.plot(x,y, marker=\"s\", ms=12, markevery=[0,1])"
   ]
  },
  {
   "cell_type": "code",
   "execution_count": 6,
   "metadata": {
    "ExecuteTime": {
     "end_time": "2021-08-22T12:41:40.079794Z",
     "start_time": "2021-08-22T12:41:39.773611Z"
    },
    "scrolled": false
   },
   "outputs": [
    {
     "data": {
      "text/plain": [
       "<matplotlib.axes._subplots.AxesSubplot at 0x205fb8a32b0>"
      ]
     },
     "execution_count": 6,
     "metadata": {},
     "output_type": "execute_result"
    },
    {
     "data": {
      "image/png": "[encoded data removed]",
      "text/plain": [
       "<Figure size 432x288 with 1 Axes>"
      ]
     },
     "metadata": {
      "needs_background": "light"
     },
     "output_type": "display_data"
    }
   ],
   "source": [
    "sns.boxplot(x='joint',y='avg_inst_temperature',data=data)"
   ]
  },
  {
   "cell_type": "code",
   "execution_count": 16,
   "metadata": {
    "ExecuteTime": {
     "end_time": "2021-08-22T12:47:26.408497Z",
     "start_time": "2021-08-22T12:47:25.790150Z"
    }
   },
   "outputs": [
    {
     "data": {
      "text/plain": [
       "<seaborn.axisgrid.FacetGrid at 0x205fc78f3d0>"
      ]
     },
     "execution_count": 16,
     "metadata": {},
     "output_type": "execute_result"
    },
    {
     "data": {
      "image/png": "[encoded data removed]",
      "text/plain": [
       "<Figure size 360x360 with 1 Axes>"
      ]
     },
     "metadata": {
      "needs_background": "light"
     },
     "output_type": "display_data"
    }
   ],
   "source": [
    "sns.lmplot(x='joint',y='sum_running_circles',data=data)"
   ]
  },
  {
   "cell_type": "code",
   "execution_count": 17,
   "metadata": {
    "ExecuteTime": {
     "end_time": "2021-08-22T12:48:41.230377Z",
     "start_time": "2021-08-22T12:48:40.879315Z"
    }
   },
   "outputs": [
    {
     "data": {
      "text/plain": [
       "<matplotlib.axes._subplots.AxesSubplot at 0x205fc926220>"
      ]
     },
     "execution_count": 17,
     "metadata": {},
     "output_type": "execute_result"
    },
    {
     "data": {
      "image/png": "[encoded data removed]",
      "text/plain": [
       "<Figure size 432x288 with 1 Axes>"
      ]
     },
     "metadata": {
      "needs_background": "light"
     },
     "output_type": "display_data"
    }
   ],
   "source": [
    "sns.scatterplot(x='joint',y='sum_running_circles',data=data)"
   ]
  },
  {
   "cell_type": "code",
   "execution_count": null,
   "metadata": {},
   "outputs": [],
   "source": []
  }
 ],
 "metadata": {
  "kernelspec": {
   "display_name": "Python 3",
   "language": "python",
   "name": "python3"
  },
  "language_info": {
   "codemirror_mode": {
    "name": "ipython",
    "version": 3
   },
   "file_extension": ".py",
   "mimetype": "text/x-python",
   "name": "python",
   "nbconvert_exporter": "python",
   "pygments_lexer": "ipython3",
   "version": "3.8.3"
  },
  "toc": {
   "base_numbering": 1,
   "nav_menu": {},
   "number_sections": true,
   "sideBar": true,
   "skip_h1_title": false,
   "title_cell": "Table of Contents",
   "title_sidebar": "Contents",
   "toc_cell": false,
   "toc_position": {},
   "toc_section_display": true,
   "toc_window_display": false
  }
 },
 "nbformat": 4,
 "nbformat_minor": 4
}
