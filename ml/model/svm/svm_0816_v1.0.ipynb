{
 "cells": [
  {
   "cell_type": "code",
   "execution_count": 1,
   "id": "3eee2089",
   "metadata": {},
   "outputs": [],
   "source": [
    "import pandas as pd\n",
    "import numpy as np\n",
    "from sklearn.svm import SVC\n",
    "from sklearn.preprocessing import StandardScaler\n",
    "from sklearn.pipeline import Pipeline\n",
    "from sklearn.metrics import classification_report,confusion_matrix"
   ]
  },
  {
   "cell_type": "markdown",
   "id": "10559ff1",
   "metadata": {},
   "source": [
    "设计pipeline"
   ]
  },
  {
   "cell_type": "code",
   "execution_count": 2,
   "id": "731edb33",
   "metadata": {},
   "outputs": [],
   "source": [
    "pipe = Pipeline([('standard',StandardScaler()), # standard\n",
    "                 ('svc',SVC(kernel='linear')), #svc\n",
    "#                  ('svc',SVC(kernel='poly')), #svc\n",
    "                ])"
   ]
  },
  {
   "cell_type": "code",
   "execution_count": 3,
   "id": "41535829",
   "metadata": {},
   "outputs": [],
   "source": [
    "data_path = '../../../data/'"
   ]
  },
  {
   "cell_type": "code",
   "execution_count": 4,
   "id": "4c628615",
   "metadata": {},
   "outputs": [
    {
     "data": {
      "text/plain": [
       "['.DS_Store',\n",
       " 'data_clean_0811.csv',\n",
       " 'cz_sh_train_0816.csv',\n",
       " 'code_file',\n",
       " 'cz_sh_test_0816.csv']"
      ]
     },
     "execution_count": 4,
     "metadata": {},
     "output_type": "execute_result"
    }
   ],
   "source": [
    "import os\n",
    "os.listdir(data_path)"
   ]
  },
  {
   "cell_type": "markdown",
   "id": "df3e326b",
   "metadata": {},
   "source": [
    "读取数据集"
   ]
  },
  {
   "cell_type": "code",
   "execution_count": 5,
   "id": "00e8e217",
   "metadata": {},
   "outputs": [],
   "source": [
    "train = pd.read_csv(data_path+'cz_sh_train_0816.csv',index_col=0)"
   ]
  },
  {
   "cell_type": "code",
   "execution_count": 6,
   "id": "0c4700bd",
   "metadata": {},
   "outputs": [],
   "source": [
    "test = pd.read_csv(data_path+'cz_sh_test_0816.csv',index_col=0)"
   ]
  },
  {
   "cell_type": "code",
   "execution_count": 7,
   "id": "834f7f1e",
   "metadata": {},
   "outputs": [
    {
     "name": "stdout",
     "output_type": "stream",
     "text": [
      "(31620, 14)\n",
      "(758, 14)\n"
     ]
    }
   ],
   "source": [
    "print(train.shape)\n",
    "print(test.shape)"
   ]
  },
  {
   "cell_type": "code",
   "execution_count": 8,
   "id": "5710ce06",
   "metadata": {},
   "outputs": [
    {
     "data": {
      "text/plain": [
       "Index(['robot_id', 'rtc', 'protective_stop', 'task_state', 'rapid_rate',\n",
       "       'sum_running_time', 'ins_average_power', 'sum_running_circles',\n",
       "       'joint_actual_position', 'current_fluctuation', 'inst_temperature',\n",
       "       'inst_voltage', 'joint', 'health'],\n",
       "      dtype='object')"
      ]
     },
     "execution_count": 8,
     "metadata": {},
     "output_type": "execute_result"
    }
   ],
   "source": [
    "train.columns"
   ]
  },
  {
   "cell_type": "code",
   "execution_count": 9,
   "id": "8101c734",
   "metadata": {},
   "outputs": [],
   "source": [
    "def get_x_y(data_set):\n",
    "    x = data_set[['protective_stop','task_state','rapid_rate','sum_running_time','ins_average_power',\n",
    "                 'sum_running_circles','joint_actual_position','current_fluctuation','inst_temperature','inst_voltage'\n",
    "                ]]\n",
    "    y = data_set[['health']]\n",
    "    return x, y"
   ]
  },
  {
   "cell_type": "code",
   "execution_count": 10,
   "id": "8a8c91eb",
   "metadata": {},
   "outputs": [],
   "source": [
    "train_x,train_y = get_x_y(train)\n",
    "test_x, test_y = get_x_y(test)"
   ]
  },
  {
   "cell_type": "code",
   "execution_count": 11,
   "id": "08d27323",
   "metadata": {},
   "outputs": [
    {
     "name": "stdout",
     "output_type": "stream",
     "text": [
      "train_x: (31620, 10)\n",
      "train_y: (31620, 1)\n",
      "test_x: (758, 10)\n",
      "test_y: (758, 1)\n"
     ]
    }
   ],
   "source": [
    "print('train_x:',train_x.shape)\n",
    "print('train_y:',train_y.shape)\n",
    "print('test_x:',test_x.shape)\n",
    "print('test_y:',test_y.shape)"
   ]
  },
  {
   "cell_type": "code",
   "execution_count": 12,
   "id": "319f36be",
   "metadata": {},
   "outputs": [
    {
     "name": "stderr",
     "output_type": "stream",
     "text": [
      "/Users/jason/mambaforge/envs/jaka/lib/python3.8/site-packages/sklearn/utils/validation.py:63: DataConversionWarning: A column-vector y was passed when a 1d array was expected. Please change the shape of y to (n_samples, ), for example using ravel().\n",
      "  return f(*args, **kwargs)\n"
     ]
    },
    {
     "data": {
      "text/plain": [
       "Pipeline(steps=[('standard', StandardScaler()), ('svc', SVC(kernel='linear'))])"
      ]
     },
     "execution_count": 12,
     "metadata": {},
     "output_type": "execute_result"
    }
   ],
   "source": [
    "pipe.fit(train_x,train_y)"
   ]
  },
  {
   "cell_type": "code",
   "execution_count": 13,
   "id": "3a6746b6",
   "metadata": {},
   "outputs": [
    {
     "data": {
      "text/plain": [
       "array(['Zu7250085'], dtype=object)"
      ]
     },
     "execution_count": 13,
     "metadata": {},
     "output_type": "execute_result"
    }
   ],
   "source": [
    "test.loc[test['health']==0,'robot_id'].unique()"
   ]
  },
  {
   "cell_type": "code",
   "execution_count": 14,
   "id": "02a7574d",
   "metadata": {},
   "outputs": [
    {
     "data": {
      "text/plain": [
       "array(['Zu3100002'], dtype=object)"
      ]
     },
     "execution_count": 14,
     "metadata": {},
     "output_type": "execute_result"
    }
   ],
   "source": [
    "train.loc[train['health']==0,'robot_id'].unique()"
   ]
  },
  {
   "cell_type": "code",
   "execution_count": 15,
   "id": "70394596",
   "metadata": {},
   "outputs": [
    {
     "data": {
      "text/plain": [
       "(758, 10)"
      ]
     },
     "execution_count": 15,
     "metadata": {},
     "output_type": "execute_result"
    }
   ],
   "source": [
    "test_x.shape"
   ]
  },
  {
   "cell_type": "code",
   "execution_count": 16,
   "id": "71cb9c8a",
   "metadata": {},
   "outputs": [],
   "source": [
    "hat_y = pipe.predict(test_x)"
   ]
  },
  {
   "cell_type": "code",
   "execution_count": 17,
   "id": "295fb4b7",
   "metadata": {},
   "outputs": [
    {
     "name": "stdout",
     "output_type": "stream",
     "text": [
      "              precision    recall  f1-score   support\n",
      "\n",
      "           0       1.00      0.99      0.99       358\n",
      "           1       0.99      1.00      0.99       400\n",
      "\n",
      "    accuracy                           0.99       758\n",
      "   macro avg       0.99      0.99      0.99       758\n",
      "weighted avg       0.99      0.99      0.99       758\n",
      "\n"
     ]
    }
   ],
   "source": [
    "print(classification_report(test_y,hat_y))"
   ]
  },
  {
   "cell_type": "code",
   "execution_count": 18,
   "id": "1d3d8e6b",
   "metadata": {},
   "outputs": [
    {
     "data": {
      "text/plain": [
       "array([[353,   5],\n",
       "       [  0, 400]])"
      ]
     },
     "execution_count": 18,
     "metadata": {},
     "output_type": "execute_result"
    }
   ],
   "source": [
    "confusion_matrix(test_y,hat_y)"
   ]
  },
  {
   "cell_type": "markdown",
   "id": "7ae942ac",
   "metadata": {},
   "source": [
    "保存模型"
   ]
  },
  {
   "cell_type": "code",
   "execution_count": 19,
   "id": "7f8f77eb",
   "metadata": {},
   "outputs": [],
   "source": [
    "import pickle"
   ]
  },
  {
   "cell_type": "code",
   "execution_count": 20,
   "id": "ba31871b",
   "metadata": {},
   "outputs": [],
   "source": [
    "filename = 'svm_0816_v1.0.pickle'"
   ]
  },
  {
   "cell_type": "code",
   "execution_count": 21,
   "id": "5c3a449f",
   "metadata": {},
   "outputs": [],
   "source": [
    "with open(filename, 'wb') as f:\n",
    "    pickle.dump(pipe, f)"
   ]
  },
  {
   "cell_type": "code",
   "execution_count": 22,
   "id": "9874d47b",
   "metadata": {},
   "outputs": [],
   "source": [
    "with open(filename, 'rb') as f:\n",
    "    model = pickle.load(f)"
   ]
  },
  {
   "cell_type": "code",
   "execution_count": 23,
   "id": "91c0dad1",
   "metadata": {},
   "outputs": [
    {
     "data": {
      "text/plain": [
       "Pipeline(steps=[('standard', StandardScaler()), ('svc', SVC(kernel='linear'))])"
      ]
     },
     "execution_count": 23,
     "metadata": {},
     "output_type": "execute_result"
    }
   ],
   "source": [
    "model"
   ]
  },
  {
   "cell_type": "code",
   "execution_count": null,
   "id": "d908cc4b",
   "metadata": {},
   "outputs": [],
   "source": []
  }
 ],
 "metadata": {
  "kernelspec": {
   "display_name": "Python 3 (ipykernel)",
   "language": "python",
   "name": "python3"
  },
  "language_info": {
   "codemirror_mode": {
    "name": "ipython",
    "version": 3
   },
   "file_extension": ".py",
   "mimetype": "text/x-python",
   "name": "python",
   "nbconvert_exporter": "python",
   "pygments_lexer": "ipython3",
   "version": "3.8.10"
  }
 },
 "nbformat": 4,
 "nbformat_minor": 5
}
