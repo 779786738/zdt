{
 "cells": [
  {
   "cell_type": "code",
   "execution_count": 1,
   "metadata": {
    "ExecuteTime": {
     "end_time": "2021-08-20T01:20:09.336954Z",
     "start_time": "2021-08-20T01:20:06.173730Z"
    }
   },
   "outputs": [],
   "source": [
    "import pandas as pd\n",
    "import warnings\n",
    "warnings.filterwarnings('ignore')\n",
    "import matplotlib.pyplot as plt\n",
    "from sklearn.model_selection import train_test_split\n",
    "from xgboost import XGBClassifier\n",
    "from sklearn.metrics import mean_absolute_error\n",
    "from sklearn.metrics import classification_report\n",
    "from sklearn.metrics import confusion_matrix"
   ]
  },
  {
   "cell_type": "code",
   "execution_count": 2,
   "metadata": {
    "ExecuteTime": {
     "end_time": "2021-08-20T01:20:14.430603Z",
     "start_time": "2021-08-20T01:20:09.339956Z"
    }
   },
   "outputs": [],
   "source": [
    "robot_raw = pd.read_csv('../../data/data_clean_0811.csv',index_col=0)"
   ]
  },
  {
   "cell_type": "code",
   "execution_count": 3,
   "metadata": {
    "ExecuteTime": {
     "end_time": "2021-08-20T01:20:14.804607Z",
     "start_time": "2021-08-20T01:20:14.434598Z"
    },
    "scrolled": true
   },
   "outputs": [
    {
     "data": {
      "text/html": [
       "<div>\n",
       "<style scoped>\n",
       "    .dataframe tbody tr th:only-of-type {\n",
       "        vertical-align: middle;\n",
       "    }\n",
       "\n",
       "    .dataframe tbody tr th {\n",
       "        vertical-align: top;\n",
       "    }\n",
       "\n",
       "    .dataframe thead th {\n",
       "        text-align: right;\n",
       "    }\n",
       "</style>\n",
       "<table border=\"1\" class=\"dataframe\">\n",
       "  <thead>\n",
       "    <tr style=\"text-align: right;\">\n",
       "      <th></th>\n",
       "      <th>robot_id</th>\n",
       "      <th>rtc</th>\n",
       "      <th>protective_stop</th>\n",
       "      <th>task_state</th>\n",
       "      <th>rapid_rate</th>\n",
       "      <th>sum_running_time</th>\n",
       "      <th>ins_average_power</th>\n",
       "      <th>sum_running_circles</th>\n",
       "      <th>joint_actual_position</th>\n",
       "      <th>current_fluctuation</th>\n",
       "      <th>inst_temperature</th>\n",
       "      <th>inst_voltage</th>\n",
       "      <th>joint</th>\n",
       "      <th>health</th>\n",
       "    </tr>\n",
       "  </thead>\n",
       "  <tbody>\n",
       "    <tr>\n",
       "      <th>0</th>\n",
       "      <td>Zu7250098</td>\n",
       "      <td>1628643756145</td>\n",
       "      <td>0</td>\n",
       "      <td>4</td>\n",
       "      <td>1.0</td>\n",
       "      <td>12589525</td>\n",
       "      <td>15.000000</td>\n",
       "      <td>3.016309e+05</td>\n",
       "      <td>51.366797</td>\n",
       "      <td>1.0</td>\n",
       "      <td>54.0</td>\n",
       "      <td>47.0</td>\n",
       "      <td>1</td>\n",
       "      <td>1</td>\n",
       "    </tr>\n",
       "    <tr>\n",
       "      <th>1</th>\n",
       "      <td>Zu3100161</td>\n",
       "      <td>1628643755723</td>\n",
       "      <td>0</td>\n",
       "      <td>4</td>\n",
       "      <td>1.0</td>\n",
       "      <td>12364110</td>\n",
       "      <td>3.400000</td>\n",
       "      <td>1.070656e+06</td>\n",
       "      <td>179.126535</td>\n",
       "      <td>1.5</td>\n",
       "      <td>46.0</td>\n",
       "      <td>48.0</td>\n",
       "      <td>1</td>\n",
       "      <td>1</td>\n",
       "    </tr>\n",
       "    <tr>\n",
       "      <th>2</th>\n",
       "      <td>Zu3100161</td>\n",
       "      <td>1628643752846</td>\n",
       "      <td>0</td>\n",
       "      <td>4</td>\n",
       "      <td>1.0</td>\n",
       "      <td>12364106</td>\n",
       "      <td>3.800000</td>\n",
       "      <td>1.070655e+06</td>\n",
       "      <td>249.018715</td>\n",
       "      <td>1.1</td>\n",
       "      <td>46.0</td>\n",
       "      <td>48.0</td>\n",
       "      <td>1</td>\n",
       "      <td>1</td>\n",
       "    </tr>\n",
       "    <tr>\n",
       "      <th>3</th>\n",
       "      <td>Zu7250098</td>\n",
       "      <td>1628643752716</td>\n",
       "      <td>0</td>\n",
       "      <td>4</td>\n",
       "      <td>1.0</td>\n",
       "      <td>12589521</td>\n",
       "      <td>36.400002</td>\n",
       "      <td>3.016302e+05</td>\n",
       "      <td>56.552356</td>\n",
       "      <td>0.8</td>\n",
       "      <td>54.0</td>\n",
       "      <td>48.0</td>\n",
       "      <td>1</td>\n",
       "      <td>1</td>\n",
       "    </tr>\n",
       "    <tr>\n",
       "      <th>4</th>\n",
       "      <td>Zu3100161</td>\n",
       "      <td>1628643749708</td>\n",
       "      <td>0</td>\n",
       "      <td>4</td>\n",
       "      <td>1.0</td>\n",
       "      <td>12364104</td>\n",
       "      <td>12.400000</td>\n",
       "      <td>1.070654e+06</td>\n",
       "      <td>134.857509</td>\n",
       "      <td>2.2</td>\n",
       "      <td>46.0</td>\n",
       "      <td>48.0</td>\n",
       "      <td>1</td>\n",
       "      <td>1</td>\n",
       "    </tr>\n",
       "    <tr>\n",
       "      <th>...</th>\n",
       "      <td>...</td>\n",
       "      <td>...</td>\n",
       "      <td>...</td>\n",
       "      <td>...</td>\n",
       "      <td>...</td>\n",
       "      <td>...</td>\n",
       "      <td>...</td>\n",
       "      <td>...</td>\n",
       "      <td>...</td>\n",
       "      <td>...</td>\n",
       "      <td>...</td>\n",
       "      <td>...</td>\n",
       "      <td>...</td>\n",
       "      <td>...</td>\n",
       "    </tr>\n",
       "    <tr>\n",
       "      <th>3537553</th>\n",
       "      <td>Zu3100091</td>\n",
       "      <td>1625448181050</td>\n",
       "      <td>0</td>\n",
       "      <td>4</td>\n",
       "      <td>1.0</td>\n",
       "      <td>12330690</td>\n",
       "      <td>0.300000</td>\n",
       "      <td>1.888191e+05</td>\n",
       "      <td>32.793401</td>\n",
       "      <td>0.8</td>\n",
       "      <td>50.0</td>\n",
       "      <td>47.0</td>\n",
       "      <td>6</td>\n",
       "      <td>1</td>\n",
       "    </tr>\n",
       "    <tr>\n",
       "      <th>3537554</th>\n",
       "      <td>Zu3100091</td>\n",
       "      <td>1625448179554</td>\n",
       "      <td>0</td>\n",
       "      <td>4</td>\n",
       "      <td>1.0</td>\n",
       "      <td>12330688</td>\n",
       "      <td>0.500000</td>\n",
       "      <td>1.888189e+05</td>\n",
       "      <td>54.094375</td>\n",
       "      <td>0.8</td>\n",
       "      <td>50.0</td>\n",
       "      <td>47.0</td>\n",
       "      <td>6</td>\n",
       "      <td>1</td>\n",
       "    </tr>\n",
       "    <tr>\n",
       "      <th>3537555</th>\n",
       "      <td>Zu3100091</td>\n",
       "      <td>1625448178687</td>\n",
       "      <td>0</td>\n",
       "      <td>4</td>\n",
       "      <td>1.0</td>\n",
       "      <td>12330688</td>\n",
       "      <td>0.100000</td>\n",
       "      <td>1.888189e+05</td>\n",
       "      <td>63.405684</td>\n",
       "      <td>0.3</td>\n",
       "      <td>50.0</td>\n",
       "      <td>47.0</td>\n",
       "      <td>6</td>\n",
       "      <td>1</td>\n",
       "    </tr>\n",
       "    <tr>\n",
       "      <th>3537556</th>\n",
       "      <td>Zu3100091</td>\n",
       "      <td>1625448177444</td>\n",
       "      <td>0</td>\n",
       "      <td>4</td>\n",
       "      <td>1.0</td>\n",
       "      <td>12330686</td>\n",
       "      <td>0.100000</td>\n",
       "      <td>1.888188e+05</td>\n",
       "      <td>20.751428</td>\n",
       "      <td>0.3</td>\n",
       "      <td>50.0</td>\n",
       "      <td>47.0</td>\n",
       "      <td>6</td>\n",
       "      <td>1</td>\n",
       "    </tr>\n",
       "    <tr>\n",
       "      <th>3537557</th>\n",
       "      <td>Zu3100091</td>\n",
       "      <td>1625447979405</td>\n",
       "      <td>0</td>\n",
       "      <td>4</td>\n",
       "      <td>1.0</td>\n",
       "      <td>12330488</td>\n",
       "      <td>0.400000</td>\n",
       "      <td>1.888064e+05</td>\n",
       "      <td>2.966841</td>\n",
       "      <td>0.8</td>\n",
       "      <td>50.0</td>\n",
       "      <td>47.0</td>\n",
       "      <td>6</td>\n",
       "      <td>1</td>\n",
       "    </tr>\n",
       "  </tbody>\n",
       "</table>\n",
       "<p>3537558 rows × 14 columns</p>\n",
       "</div>"
      ],
      "text/plain": [
       "          robot_id            rtc  protective_stop  task_state  rapid_rate  \\\n",
       "0        Zu7250098  1628643756145                0           4         1.0   \n",
       "1        Zu3100161  1628643755723                0           4         1.0   \n",
       "2        Zu3100161  1628643752846                0           4         1.0   \n",
       "3        Zu7250098  1628643752716                0           4         1.0   \n",
       "4        Zu3100161  1628643749708                0           4         1.0   \n",
       "...            ...            ...              ...         ...         ...   \n",
       "3537553  Zu3100091  1625448181050                0           4         1.0   \n",
       "3537554  Zu3100091  1625448179554                0           4         1.0   \n",
       "3537555  Zu3100091  1625448178687                0           4         1.0   \n",
       "3537556  Zu3100091  1625448177444                0           4         1.0   \n",
       "3537557  Zu3100091  1625447979405                0           4         1.0   \n",
       "\n",
       "         sum_running_time  ins_average_power  sum_running_circles  \\\n",
       "0                12589525          15.000000         3.016309e+05   \n",
       "1                12364110           3.400000         1.070656e+06   \n",
       "2                12364106           3.800000         1.070655e+06   \n",
       "3                12589521          36.400002         3.016302e+05   \n",
       "4                12364104          12.400000         1.070654e+06   \n",
       "...                   ...                ...                  ...   \n",
       "3537553          12330690           0.300000         1.888191e+05   \n",
       "3537554          12330688           0.500000         1.888189e+05   \n",
       "3537555          12330688           0.100000         1.888189e+05   \n",
       "3537556          12330686           0.100000         1.888188e+05   \n",
       "3537557          12330488           0.400000         1.888064e+05   \n",
       "\n",
       "         joint_actual_position  current_fluctuation  inst_temperature  \\\n",
       "0                    51.366797                  1.0              54.0   \n",
       "1                   179.126535                  1.5              46.0   \n",
       "2                   249.018715                  1.1              46.0   \n",
       "3                    56.552356                  0.8              54.0   \n",
       "4                   134.857509                  2.2              46.0   \n",
       "...                        ...                  ...               ...   \n",
       "3537553              32.793401                  0.8              50.0   \n",
       "3537554              54.094375                  0.8              50.0   \n",
       "3537555              63.405684                  0.3              50.0   \n",
       "3537556              20.751428                  0.3              50.0   \n",
       "3537557               2.966841                  0.8              50.0   \n",
       "\n",
       "         inst_voltage  joint  health  \n",
       "0                47.0      1       1  \n",
       "1                48.0      1       1  \n",
       "2                48.0      1       1  \n",
       "3                48.0      1       1  \n",
       "4                48.0      1       1  \n",
       "...               ...    ...     ...  \n",
       "3537553          47.0      6       1  \n",
       "3537554          47.0      6       1  \n",
       "3537555          47.0      6       1  \n",
       "3537556          47.0      6       1  \n",
       "3537557          47.0      6       1  \n",
       "\n",
       "[3537558 rows x 14 columns]"
      ]
     },
     "execution_count": 3,
     "metadata": {},
     "output_type": "execute_result"
    }
   ],
   "source": [
    "robot_raw = robot_raw.reset_index(drop=True)\n",
    "data=robot_raw\n",
    "data"
   ]
  },
  {
   "cell_type": "code",
   "execution_count": 4,
   "metadata": {
    "ExecuteTime": {
     "end_time": "2021-08-20T01:20:14.836523Z",
     "start_time": "2021-08-20T01:20:14.808597Z"
    }
   },
   "outputs": [
    {
     "data": {
      "text/plain": [
       "0.7687856990613299"
      ]
     },
     "execution_count": 4,
     "metadata": {},
     "output_type": "execute_result"
    }
   ],
   "source": [
    "data.health.mean()"
   ]
  },
  {
   "cell_type": "code",
   "execution_count": 5,
   "metadata": {
    "ExecuteTime": {
     "end_time": "2021-08-20T01:20:15.070895Z",
     "start_time": "2021-08-20T01:20:14.840512Z"
    }
   },
   "outputs": [
    {
     "data": {
      "text/plain": [
       "0.23121430093867013"
      ]
     },
     "execution_count": 5,
     "metadata": {},
     "output_type": "execute_result"
    }
   ],
   "source": [
    "data[data['health']==0].shape[0]/data.shape[0]"
   ]
  },
  {
   "cell_type": "code",
   "execution_count": 6,
   "metadata": {
    "ExecuteTime": {
     "end_time": "2021-08-20T01:20:15.085856Z",
     "start_time": "2021-08-20T01:20:15.074888Z"
    }
   },
   "outputs": [
    {
     "data": {
      "text/plain": [
       "Index(['robot_id', 'rtc', 'protective_stop', 'task_state', 'rapid_rate',\n",
       "       'sum_running_time', 'ins_average_power', 'sum_running_circles',\n",
       "       'joint_actual_position', 'current_fluctuation', 'inst_temperature',\n",
       "       'inst_voltage', 'joint', 'health'],\n",
       "      dtype='object')"
      ]
     },
     "execution_count": 6,
     "metadata": {},
     "output_type": "execute_result"
    }
   ],
   "source": [
    "data.columns"
   ]
  },
  {
   "cell_type": "code",
   "execution_count": 7,
   "metadata": {
    "ExecuteTime": {
     "end_time": "2021-08-20T01:20:15.115779Z",
     "start_time": "2021-08-20T01:20:15.103809Z"
    }
   },
   "outputs": [],
   "source": [
    "X = data\n",
    "y = data['health']"
   ]
  },
  {
   "cell_type": "code",
   "execution_count": 8,
   "metadata": {
    "ExecuteTime": {
     "end_time": "2021-08-20T01:20:17.564472Z",
     "start_time": "2021-08-20T01:20:15.119766Z"
    }
   },
   "outputs": [],
   "source": [
    "# 从训练数据中分离验证集\n",
    "X_train_full, X_valid_test_full, y_train, y_valid_test = train_test_split(X, y, train_size=0.8, test_size=0.2,random_state=42)\n",
    "X_valid_full, X_test_full, y_valid ,y_test = train_test_split(X_valid_test_full,y_valid_test,train_size=0.5,test_size=0.5,random_state=42)"
   ]
  },
  {
   "cell_type": "code",
   "execution_count": 9,
   "metadata": {
    "ExecuteTime": {
     "end_time": "2021-08-20T01:20:17.583594Z",
     "start_time": "2021-08-20T01:20:17.566640Z"
    }
   },
   "outputs": [],
   "source": [
    "my_cols = [  'sum_running_time',\n",
    " 'ins_average_power',\n",
    " 'sum_running_circles',\n",
    " 'joint_actual_position',\n",
    " 'current_fluctuation',\n",
    " 'inst_temperature']"
   ]
  },
  {
   "cell_type": "code",
   "execution_count": 10,
   "metadata": {
    "ExecuteTime": {
     "end_time": "2021-08-20T01:20:17.909721Z",
     "start_time": "2021-08-20T01:20:17.588581Z"
    }
   },
   "outputs": [],
   "source": [
    "X_train = X_train_full[my_cols].copy()\n",
    "X_valid = X_valid_full[my_cols].copy()\n",
    "X_test = X_test_full[my_cols].copy()"
   ]
  },
  {
   "cell_type": "code",
   "execution_count": 11,
   "metadata": {
    "ExecuteTime": {
     "end_time": "2021-08-20T01:42:55.311984Z",
     "start_time": "2021-08-20T01:20:17.911717Z"
    }
   },
   "outputs": [
    {
     "name": "stdout",
     "output_type": "stream",
     "text": [
      "[09:20:23] WARNING: C:/Users/Administrator/workspace/xgboost-win64_release_1.4.0/src/learner.cc:1095: Starting in XGBoost 1.3.0, the default evaluation metric used with the objective 'binary:logistic' was changed from 'error' to 'logloss'. Explicitly set eval_metric if you'd like to restore the old behavior.\n"
     ]
    },
    {
     "data": {
      "text/plain": [
       "XGBClassifier(base_score=0.5, booster='gbtree', colsample_bylevel=1,\n",
       "              colsample_bynode=1, colsample_bytree=1, gamma=0, gpu_id=-1,\n",
       "              importance_type='gain', interaction_constraints='',\n",
       "              learning_rate=0.1, max_delta_step=0, max_depth=6,\n",
       "              min_child_weight=1, missing=nan, monotone_constraints='()',\n",
       "              n_estimators=500, n_jobs=4, num_parallel_tree=1, random_state=42,\n",
       "              reg_alpha=0, reg_lambda=1, scale_pos_weight=1, subsample=1,\n",
       "              tree_method='exact', validate_parameters=1, verbosity=None)"
      ]
     },
     "execution_count": 11,
     "metadata": {},
     "output_type": "execute_result"
    }
   ],
   "source": [
    "my_model = XGBClassifier(n_estimators=500,random_state=42,learning_rate=0.1)\n",
    "my_model.fit(X_train,y_train)"
   ]
  },
  {
   "cell_type": "code",
   "execution_count": 12,
   "metadata": {
    "ExecuteTime": {
     "end_time": "2021-08-20T01:42:56.813968Z",
     "start_time": "2021-08-20T01:42:55.315976Z"
    }
   },
   "outputs": [],
   "source": [
    "prediction1 = my_model.predict(X_valid)"
   ]
  },
  {
   "cell_type": "code",
   "execution_count": 13,
   "metadata": {
    "ExecuteTime": {
     "end_time": "2021-08-20T01:42:57.771409Z",
     "start_time": "2021-08-20T01:42:56.816961Z"
    }
   },
   "outputs": [
    {
     "name": "stdout",
     "output_type": "stream",
     "text": [
      "              precision    recall  f1-score   support\n",
      "\n",
      "           0       1.00      1.00      1.00     81573\n",
      "           1       1.00      1.00      1.00    272183\n",
      "\n",
      "    accuracy                           1.00    353756\n",
      "   macro avg       1.00      1.00      1.00    353756\n",
      "weighted avg       1.00      1.00      1.00    353756\n",
      "\n"
     ]
    }
   ],
   "source": [
    "print(classification_report(y_valid, prediction1))"
   ]
  },
  {
   "cell_type": "code",
   "execution_count": 14,
   "metadata": {
    "ExecuteTime": {
     "end_time": "2021-08-20T01:42:57.787367Z",
     "start_time": "2021-08-20T01:42:57.774402Z"
    }
   },
   "outputs": [
    {
     "data": {
      "text/plain": [
       "array([0, 0, 1, ..., 1, 1, 1], dtype=int64)"
      ]
     },
     "execution_count": 14,
     "metadata": {},
     "output_type": "execute_result"
    }
   ],
   "source": [
    "prediction1"
   ]
  },
  {
   "cell_type": "code",
   "execution_count": 15,
   "metadata": {
    "ExecuteTime": {
     "end_time": "2021-08-20T01:42:58.229027Z",
     "start_time": "2021-08-20T01:42:57.791357Z"
    }
   },
   "outputs": [
    {
     "data": {
      "text/plain": [
       "array([[ 81572,      1],\n",
       "       [     1, 272182]], dtype=int64)"
      ]
     },
     "execution_count": 15,
     "metadata": {},
     "output_type": "execute_result"
    }
   ],
   "source": [
    "confusion_matrix(y_valid,prediction1, labels=None, sample_weight=None)"
   ]
  },
  {
   "cell_type": "code",
   "execution_count": 16,
   "metadata": {
    "ExecuteTime": {
     "end_time": "2021-08-20T01:42:58.291854Z",
     "start_time": "2021-08-20T01:42:58.233013Z"
    }
   },
   "outputs": [
    {
     "name": "stdout",
     "output_type": "stream",
     "text": [
      " Volume in drive D is LENOVO\n",
      " Volume Serial Number is E69E-F3CE\n",
      "\n",
      " Directory of D:\\Desktop\\JAKA\\code\\zdt_v1\\ml\\model\\xgboost\n",
      "\n",
      "2021/08/20  09:21    <DIR>          .\n",
      "2021/08/20  09:21    <DIR>          ..\n",
      "2021/08/20  09:21    <DIR>          .ipynb_checkpoints\n",
      "2021/08/20  09:21            19,071 xgboost_0816_v1.0.ipynb\n",
      "               1 File(s)         19,071 bytes\n",
      "               3 Dir(s)  29,770,821,632 bytes free\n"
     ]
    }
   ],
   "source": [
    "!dir"
   ]
  },
  {
   "cell_type": "code",
   "execution_count": 17,
   "metadata": {
    "ExecuteTime": {
     "end_time": "2021-08-20T01:42:58.385603Z",
     "start_time": "2021-08-20T01:42:58.295844Z"
    }
   },
   "outputs": [],
   "source": [
    "import pickle \n",
    "#保存Model(注:save文件夹要预先建立，否则会报错)\n",
    "with open('xgboost_0816_v1.0.pickle', 'wb') as f:\n",
    "    pickle.dump(my_model, f)"
   ]
  },
  {
   "cell_type": "code",
   "execution_count": null,
   "metadata": {},
   "outputs": [],
   "source": []
  }
 ],
 "metadata": {
  "kernelspec": {
   "display_name": "Python 3",
   "language": "python",
   "name": "python3"
  },
  "language_info": {
   "codemirror_mode": {
    "name": "ipython",
    "version": 3
   },
   "file_extension": ".py",
   "mimetype": "text/x-python",
   "name": "python",
   "nbconvert_exporter": "python",
   "pygments_lexer": "ipython3",
   "version": "3.8.3"
  },
  "toc": {
   "base_numbering": 1,
   "nav_menu": {},
   "number_sections": true,
   "sideBar": true,
   "skip_h1_title": false,
   "title_cell": "Table of Contents",
   "title_sidebar": "Contents",
   "toc_cell": false,
   "toc_position": {},
   "toc_section_display": true,
   "toc_window_display": false
  }
 },
 "nbformat": 4,
 "nbformat_minor": 4
}
