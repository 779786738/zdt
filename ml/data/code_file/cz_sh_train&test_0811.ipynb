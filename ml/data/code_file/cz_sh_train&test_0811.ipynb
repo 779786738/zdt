{
 "cells": [
  {
   "cell_type": "code",
   "execution_count": 1,
   "id": "ad6ddb7f",
   "metadata": {},
   "outputs": [],
   "source": [
    "import pandas as pd\n",
    "import numpy as np"
   ]
  },
  {
   "cell_type": "code",
   "execution_count": 2,
   "id": "500eff61",
   "metadata": {},
   "outputs": [
    {
     "name": "stdout",
     "output_type": "stream",
     "text": [
      "\u001b[1m\u001b[36mcode_file\u001b[m\u001b[m            cz_sh_train_0816.csv\r\n",
      "cz_sh_test_0816.csv  data_clean_0811.csv\r\n"
     ]
    }
   ],
   "source": [
    "!ls .."
   ]
  },
  {
   "cell_type": "code",
   "execution_count": 3,
   "id": "cf82a224",
   "metadata": {},
   "outputs": [
    {
     "data": {
      "text/html": [
       "<div>\n",
       "<style scoped>\n",
       "    .dataframe tbody tr th:only-of-type {\n",
       "        vertical-align: middle;\n",
       "    }\n",
       "\n",
       "    .dataframe tbody tr th {\n",
       "        vertical-align: top;\n",
       "    }\n",
       "\n",
       "    .dataframe thead th {\n",
       "        text-align: right;\n",
       "    }\n",
       "</style>\n",
       "<table border=\"1\" class=\"dataframe\">\n",
       "  <thead>\n",
       "    <tr style=\"text-align: right;\">\n",
       "      <th></th>\n",
       "      <th>robot_id</th>\n",
       "      <th>rtc</th>\n",
       "      <th>protective_stop</th>\n",
       "      <th>task_state</th>\n",
       "      <th>rapid_rate</th>\n",
       "      <th>sum_running_time</th>\n",
       "      <th>ins_average_power</th>\n",
       "      <th>sum_running_circles</th>\n",
       "      <th>joint_actual_position</th>\n",
       "      <th>current_fluctuation</th>\n",
       "      <th>inst_temperature</th>\n",
       "      <th>inst_voltage</th>\n",
       "      <th>joint</th>\n",
       "      <th>health</th>\n",
       "    </tr>\n",
       "  </thead>\n",
       "  <tbody>\n",
       "    <tr>\n",
       "      <th>23212</th>\n",
       "      <td>Zu7250098</td>\n",
       "      <td>1628643756145</td>\n",
       "      <td>0</td>\n",
       "      <td>4</td>\n",
       "      <td>1.0</td>\n",
       "      <td>12589525</td>\n",
       "      <td>15.000000</td>\n",
       "      <td>3.016309e+05</td>\n",
       "      <td>51.366797</td>\n",
       "      <td>1.0</td>\n",
       "      <td>54.0</td>\n",
       "      <td>47.0</td>\n",
       "      <td>1</td>\n",
       "      <td>1</td>\n",
       "    </tr>\n",
       "    <tr>\n",
       "      <th>23216</th>\n",
       "      <td>Zu3100161</td>\n",
       "      <td>1628643755723</td>\n",
       "      <td>0</td>\n",
       "      <td>4</td>\n",
       "      <td>1.0</td>\n",
       "      <td>12364110</td>\n",
       "      <td>3.400000</td>\n",
       "      <td>1.070656e+06</td>\n",
       "      <td>179.126535</td>\n",
       "      <td>1.5</td>\n",
       "      <td>46.0</td>\n",
       "      <td>48.0</td>\n",
       "      <td>1</td>\n",
       "      <td>1</td>\n",
       "    </tr>\n",
       "    <tr>\n",
       "      <th>23222</th>\n",
       "      <td>Zu3100161</td>\n",
       "      <td>1628643752846</td>\n",
       "      <td>0</td>\n",
       "      <td>4</td>\n",
       "      <td>1.0</td>\n",
       "      <td>12364106</td>\n",
       "      <td>3.800000</td>\n",
       "      <td>1.070655e+06</td>\n",
       "      <td>249.018715</td>\n",
       "      <td>1.1</td>\n",
       "      <td>46.0</td>\n",
       "      <td>48.0</td>\n",
       "      <td>1</td>\n",
       "      <td>1</td>\n",
       "    </tr>\n",
       "    <tr>\n",
       "      <th>23224</th>\n",
       "      <td>Zu7250098</td>\n",
       "      <td>1628643752716</td>\n",
       "      <td>0</td>\n",
       "      <td>4</td>\n",
       "      <td>1.0</td>\n",
       "      <td>12589521</td>\n",
       "      <td>36.400002</td>\n",
       "      <td>3.016302e+05</td>\n",
       "      <td>56.552356</td>\n",
       "      <td>0.8</td>\n",
       "      <td>54.0</td>\n",
       "      <td>48.0</td>\n",
       "      <td>1</td>\n",
       "      <td>1</td>\n",
       "    </tr>\n",
       "    <tr>\n",
       "      <th>23231</th>\n",
       "      <td>Zu3100161</td>\n",
       "      <td>1628643749708</td>\n",
       "      <td>0</td>\n",
       "      <td>4</td>\n",
       "      <td>1.0</td>\n",
       "      <td>12364104</td>\n",
       "      <td>12.400000</td>\n",
       "      <td>1.070654e+06</td>\n",
       "      <td>134.857509</td>\n",
       "      <td>2.2</td>\n",
       "      <td>46.0</td>\n",
       "      <td>48.0</td>\n",
       "      <td>1</td>\n",
       "      <td>1</td>\n",
       "    </tr>\n",
       "  </tbody>\n",
       "</table>\n",
       "</div>"
      ],
      "text/plain": [
       "        robot_id            rtc  protective_stop  task_state  rapid_rate  \\\n",
       "23212  Zu7250098  1628643756145                0           4         1.0   \n",
       "23216  Zu3100161  1628643755723                0           4         1.0   \n",
       "23222  Zu3100161  1628643752846                0           4         1.0   \n",
       "23224  Zu7250098  1628643752716                0           4         1.0   \n",
       "23231  Zu3100161  1628643749708                0           4         1.0   \n",
       "\n",
       "       sum_running_time  ins_average_power  sum_running_circles  \\\n",
       "23212          12589525          15.000000         3.016309e+05   \n",
       "23216          12364110           3.400000         1.070656e+06   \n",
       "23222          12364106           3.800000         1.070655e+06   \n",
       "23224          12589521          36.400002         3.016302e+05   \n",
       "23231          12364104          12.400000         1.070654e+06   \n",
       "\n",
       "       joint_actual_position  current_fluctuation  inst_temperature  \\\n",
       "23212              51.366797                  1.0              54.0   \n",
       "23216             179.126535                  1.5              46.0   \n",
       "23222             249.018715                  1.1              46.0   \n",
       "23224              56.552356                  0.8              54.0   \n",
       "23231             134.857509                  2.2              46.0   \n",
       "\n",
       "       inst_voltage  joint  health  \n",
       "23212          47.0      1       1  \n",
       "23216          48.0      1       1  \n",
       "23222          48.0      1       1  \n",
       "23224          48.0      1       1  \n",
       "23231          48.0      1       1  "
      ]
     },
     "execution_count": 3,
     "metadata": {},
     "output_type": "execute_result"
    }
   ],
   "source": [
    "data = pd.read_csv('../data_clean_0811.csv',index_col=0)\n",
    "data = data[data['rtc']>=1627747200000] # 8.1日之后数据\n",
    "data.head()"
   ]
  },
  {
   "cell_type": "code",
   "execution_count": 4,
   "id": "aed3b431",
   "metadata": {},
   "outputs": [
    {
     "data": {
      "text/plain": [
       "(1152912, 14)"
      ]
     },
     "execution_count": 4,
     "metadata": {},
     "output_type": "execute_result"
    }
   ],
   "source": [
    "data.shape"
   ]
  },
  {
   "cell_type": "markdown",
   "id": "1467600e",
   "metadata": {},
   "source": [
    "选取二关节数据"
   ]
  },
  {
   "cell_type": "code",
   "execution_count": 5,
   "id": "69167da8",
   "metadata": {},
   "outputs": [],
   "source": [
    "joint_2 = data[data['joint']==2]"
   ]
  },
  {
   "cell_type": "code",
   "execution_count": 6,
   "id": "291f3e82",
   "metadata": {},
   "outputs": [
    {
     "name": "stdout",
     "output_type": "stream",
     "text": [
      "health=1: (176174, 14)\n",
      "health=0: (15978, 14)\n"
     ]
    }
   ],
   "source": [
    "print(\"health=1:\",joint_2[joint_2['health']==1].shape)\n",
    "print(\"health=0:\",joint_2[joint_2['health']==0].shape)"
   ]
  },
  {
   "cell_type": "markdown",
   "id": "46e05c4b",
   "metadata": {},
   "source": [
    "二关节坏的机器人"
   ]
  },
  {
   "cell_type": "code",
   "execution_count": 7,
   "id": "a7c7716b",
   "metadata": {},
   "outputs": [
    {
     "data": {
      "text/plain": [
       "array(['Zu3100002', 'Zu7250085'], dtype=object)"
      ]
     },
     "execution_count": 7,
     "metadata": {},
     "output_type": "execute_result"
    }
   ],
   "source": [
    "joint_2.loc[joint_2['health'] ==0,'robot_id'].unique()"
   ]
  },
  {
   "cell_type": "markdown",
   "id": "ee004c59",
   "metadata": {},
   "source": [
    "### Zu7250085作为测试集"
   ]
  },
  {
   "cell_type": "code",
   "execution_count": 10,
   "id": "c460e3b7",
   "metadata": {},
   "outputs": [
    {
     "data": {
      "text/plain": [
       "(15620, 14)"
      ]
     },
     "execution_count": 10,
     "metadata": {},
     "output_type": "execute_result"
    }
   ],
   "source": [
    "joint_2.loc[joint_2['robot_id']=='Zu3100002'].shape"
   ]
  },
  {
   "cell_type": "code",
   "execution_count": 11,
   "id": "3e93ea46",
   "metadata": {},
   "outputs": [
    {
     "data": {
      "text/plain": [
       "(358, 14)"
      ]
     },
     "execution_count": 11,
     "metadata": {},
     "output_type": "execute_result"
    }
   ],
   "source": [
    "joint_2.loc[joint_2['robot_id']=='Zu7250085'].shape"
   ]
  },
  {
   "cell_type": "markdown",
   "id": "cfe822b2",
   "metadata": {},
   "source": [
    "取出好坏关节"
   ]
  },
  {
   "cell_type": "code",
   "execution_count": 14,
   "id": "e97dfdfd",
   "metadata": {},
   "outputs": [],
   "source": [
    "joint_2_great = joint_2.loc[joint_2['health']==1]"
   ]
  },
  {
   "cell_type": "code",
   "execution_count": 15,
   "id": "9e63282b",
   "metadata": {},
   "outputs": [],
   "source": [
    "joint_2_broken = joint_2.loc[joint_2['health'] == 0]"
   ]
  },
  {
   "cell_type": "code",
   "execution_count": 17,
   "id": "dccf0c50",
   "metadata": {},
   "outputs": [
    {
     "data": {
      "text/plain": [
       "(15620, 14)"
      ]
     },
     "execution_count": 17,
     "metadata": {},
     "output_type": "execute_result"
    }
   ],
   "source": [
    "joint_2_broken[joint_2_broken['robot_id']== 'Zu3100002'].shape"
   ]
  },
  {
   "cell_type": "code",
   "execution_count": 18,
   "id": "d2f01593",
   "metadata": {},
   "outputs": [],
   "source": [
    "test = joint_2_broken[joint_2_broken['robot_id']== 'Zu7250085']"
   ]
  },
  {
   "cell_type": "code",
   "execution_count": 20,
   "id": "7e60d13d",
   "metadata": {},
   "outputs": [
    {
     "data": {
      "text/plain": [
       "(15978, 14)"
      ]
     },
     "execution_count": 20,
     "metadata": {},
     "output_type": "execute_result"
    }
   ],
   "source": [
    "joint_2_broken.shape"
   ]
  },
  {
   "cell_type": "code",
   "execution_count": 21,
   "id": "f0426853",
   "metadata": {},
   "outputs": [
    {
     "data": {
      "text/plain": [
       "(176174, 14)"
      ]
     },
     "execution_count": 21,
     "metadata": {},
     "output_type": "execute_result"
    }
   ],
   "source": [
    "joint_2_great.shape"
   ]
  },
  {
   "cell_type": "markdown",
   "id": "dcd8e28a",
   "metadata": {},
   "source": [
    "从好的二关节里面取出16000放入训练集，400放入测试集"
   ]
  },
  {
   "cell_type": "code",
   "execution_count": 22,
   "id": "8c1b87d1",
   "metadata": {},
   "outputs": [],
   "source": [
    "joint_2_temp = joint_2_great.sample(n=16400)"
   ]
  },
  {
   "cell_type": "code",
   "execution_count": 24,
   "id": "bf89bef9",
   "metadata": {},
   "outputs": [],
   "source": [
    "test = pd.concat([joint_2_temp.iloc[:400,:],test])"
   ]
  },
  {
   "cell_type": "code",
   "execution_count": 32,
   "id": "9df0a200",
   "metadata": {},
   "outputs": [],
   "source": [
    "train = joint_2_broken[joint_2_broken['robot_id']=='Zu3100002']"
   ]
  },
  {
   "cell_type": "code",
   "execution_count": 33,
   "id": "7339f0e7",
   "metadata": {},
   "outputs": [],
   "source": [
    "train = pd.concat([joint_2_temp.iloc[400:,:],train])"
   ]
  },
  {
   "cell_type": "code",
   "execution_count": 34,
   "id": "8b933444",
   "metadata": {},
   "outputs": [],
   "source": [
    "from sklearn.utils import shuffle"
   ]
  },
  {
   "cell_type": "code",
   "execution_count": 35,
   "id": "328da011",
   "metadata": {},
   "outputs": [],
   "source": [
    "train = shuffle(train)"
   ]
  },
  {
   "cell_type": "code",
   "execution_count": 36,
   "id": "f9cc509d",
   "metadata": {},
   "outputs": [
    {
     "data": {
      "text/plain": [
       "array(['Zu3100002'], dtype=object)"
      ]
     },
     "execution_count": 36,
     "metadata": {},
     "output_type": "execute_result"
    }
   ],
   "source": [
    "train.loc[train['health']==0,'robot_id'].unique()"
   ]
  },
  {
   "cell_type": "code",
   "execution_count": 37,
   "id": "323ed0b7",
   "metadata": {},
   "outputs": [],
   "source": [
    "train.to_csv('../cz_sh_train_0816.csv')"
   ]
  },
  {
   "cell_type": "code",
   "execution_count": 38,
   "id": "32198f0d",
   "metadata": {},
   "outputs": [
    {
     "data": {
      "text/html": [
       "<div>\n",
       "<style scoped>\n",
       "    .dataframe tbody tr th:only-of-type {\n",
       "        vertical-align: middle;\n",
       "    }\n",
       "\n",
       "    .dataframe tbody tr th {\n",
       "        vertical-align: top;\n",
       "    }\n",
       "\n",
       "    .dataframe thead th {\n",
       "        text-align: right;\n",
       "    }\n",
       "</style>\n",
       "<table border=\"1\" class=\"dataframe\">\n",
       "  <thead>\n",
       "    <tr style=\"text-align: right;\">\n",
       "      <th></th>\n",
       "      <th>robot_id</th>\n",
       "      <th>rtc</th>\n",
       "      <th>protective_stop</th>\n",
       "      <th>task_state</th>\n",
       "      <th>rapid_rate</th>\n",
       "      <th>sum_running_time</th>\n",
       "      <th>ins_average_power</th>\n",
       "      <th>sum_running_circles</th>\n",
       "      <th>joint_actual_position</th>\n",
       "      <th>current_fluctuation</th>\n",
       "      <th>inst_temperature</th>\n",
       "      <th>inst_voltage</th>\n",
       "      <th>joint</th>\n",
       "      <th>health</th>\n",
       "    </tr>\n",
       "  </thead>\n",
       "  <tbody>\n",
       "    <tr>\n",
       "      <th>1511560</th>\n",
       "      <td>Zu7250085</td>\n",
       "      <td>1627886253339</td>\n",
       "      <td>0</td>\n",
       "      <td>4</td>\n",
       "      <td>0.64</td>\n",
       "      <td>4576548</td>\n",
       "      <td>52.700001</td>\n",
       "      <td>163913.593750</td>\n",
       "      <td>118.790608</td>\n",
       "      <td>1.7</td>\n",
       "      <td>39.0</td>\n",
       "      <td>48.0</td>\n",
       "      <td>2</td>\n",
       "      <td>0</td>\n",
       "    </tr>\n",
       "    <tr>\n",
       "      <th>40446</th>\n",
       "      <td>Zu3100161</td>\n",
       "      <td>1628637899033</td>\n",
       "      <td>0</td>\n",
       "      <td>4</td>\n",
       "      <td>1.00</td>\n",
       "      <td>12358252</td>\n",
       "      <td>0.000000</td>\n",
       "      <td>105882.398438</td>\n",
       "      <td>87.266460</td>\n",
       "      <td>0.5</td>\n",
       "      <td>49.0</td>\n",
       "      <td>48.0</td>\n",
       "      <td>2</td>\n",
       "      <td>1</td>\n",
       "    </tr>\n",
       "    <tr>\n",
       "      <th>1647194</th>\n",
       "      <td>Zu7250396</td>\n",
       "      <td>1627812418756</td>\n",
       "      <td>0</td>\n",
       "      <td>4</td>\n",
       "      <td>1.00</td>\n",
       "      <td>4444907</td>\n",
       "      <td>0.000000</td>\n",
       "      <td>55359.199219</td>\n",
       "      <td>90.004610</td>\n",
       "      <td>0.1</td>\n",
       "      <td>44.0</td>\n",
       "      <td>48.0</td>\n",
       "      <td>2</td>\n",
       "      <td>1</td>\n",
       "    </tr>\n",
       "    <tr>\n",
       "      <th>1531875</th>\n",
       "      <td>Zu7250085</td>\n",
       "      <td>1627875274882</td>\n",
       "      <td>0</td>\n",
       "      <td>4</td>\n",
       "      <td>0.29</td>\n",
       "      <td>4571132</td>\n",
       "      <td>19.600000</td>\n",
       "      <td>163863.093750</td>\n",
       "      <td>80.999238</td>\n",
       "      <td>0.6</td>\n",
       "      <td>39.0</td>\n",
       "      <td>48.0</td>\n",
       "      <td>2</td>\n",
       "      <td>0</td>\n",
       "    </tr>\n",
       "    <tr>\n",
       "      <th>963563</th>\n",
       "      <td>Zu7250397</td>\n",
       "      <td>1628163987584</td>\n",
       "      <td>0</td>\n",
       "      <td>4</td>\n",
       "      <td>0.50</td>\n",
       "      <td>1153533</td>\n",
       "      <td>0.000000</td>\n",
       "      <td>50574.199219</td>\n",
       "      <td>62.735370</td>\n",
       "      <td>0.2</td>\n",
       "      <td>44.0</td>\n",
       "      <td>47.0</td>\n",
       "      <td>2</td>\n",
       "      <td>1</td>\n",
       "    </tr>\n",
       "    <tr>\n",
       "      <th>...</th>\n",
       "      <td>...</td>\n",
       "      <td>...</td>\n",
       "      <td>...</td>\n",
       "      <td>...</td>\n",
       "      <td>...</td>\n",
       "      <td>...</td>\n",
       "      <td>...</td>\n",
       "      <td>...</td>\n",
       "      <td>...</td>\n",
       "      <td>...</td>\n",
       "      <td>...</td>\n",
       "      <td>...</td>\n",
       "      <td>...</td>\n",
       "      <td>...</td>\n",
       "    </tr>\n",
       "    <tr>\n",
       "      <th>1511926</th>\n",
       "      <td>Zu7250085</td>\n",
       "      <td>1627886059363</td>\n",
       "      <td>0</td>\n",
       "      <td>4</td>\n",
       "      <td>0.64</td>\n",
       "      <td>4576355</td>\n",
       "      <td>7.200000</td>\n",
       "      <td>163892.500000</td>\n",
       "      <td>130.234884</td>\n",
       "      <td>1.0</td>\n",
       "      <td>39.0</td>\n",
       "      <td>47.0</td>\n",
       "      <td>2</td>\n",
       "      <td>0</td>\n",
       "    </tr>\n",
       "    <tr>\n",
       "      <th>961070</th>\n",
       "      <td>Zu7250396</td>\n",
       "      <td>1628165628920</td>\n",
       "      <td>0</td>\n",
       "      <td>4</td>\n",
       "      <td>1.00</td>\n",
       "      <td>4525003</td>\n",
       "      <td>0.000000</td>\n",
       "      <td>55370.898438</td>\n",
       "      <td>90.004610</td>\n",
       "      <td>0.1</td>\n",
       "      <td>36.0</td>\n",
       "      <td>48.0</td>\n",
       "      <td>2</td>\n",
       "      <td>1</td>\n",
       "    </tr>\n",
       "    <tr>\n",
       "      <th>1531862</th>\n",
       "      <td>Zu7250085</td>\n",
       "      <td>1627875281290</td>\n",
       "      <td>0</td>\n",
       "      <td>4</td>\n",
       "      <td>0.29</td>\n",
       "      <td>4571138</td>\n",
       "      <td>0.000000</td>\n",
       "      <td>163863.203125</td>\n",
       "      <td>79.927111</td>\n",
       "      <td>0.1</td>\n",
       "      <td>39.0</td>\n",
       "      <td>48.0</td>\n",
       "      <td>2</td>\n",
       "      <td>0</td>\n",
       "    </tr>\n",
       "    <tr>\n",
       "      <th>1716164</th>\n",
       "      <td>Zu7250396</td>\n",
       "      <td>1627774528265</td>\n",
       "      <td>0</td>\n",
       "      <td>4</td>\n",
       "      <td>1.00</td>\n",
       "      <td>4407008</td>\n",
       "      <td>0.000000</td>\n",
       "      <td>55359.199219</td>\n",
       "      <td>90.004610</td>\n",
       "      <td>0.1</td>\n",
       "      <td>42.0</td>\n",
       "      <td>48.0</td>\n",
       "      <td>2</td>\n",
       "      <td>1</td>\n",
       "    </tr>\n",
       "    <tr>\n",
       "      <th>1343143</th>\n",
       "      <td>Zu7210038</td>\n",
       "      <td>1627971101035</td>\n",
       "      <td>0</td>\n",
       "      <td>4</td>\n",
       "      <td>1.00</td>\n",
       "      <td>4476906</td>\n",
       "      <td>0.000000</td>\n",
       "      <td>37225.101563</td>\n",
       "      <td>89.179930</td>\n",
       "      <td>0.4</td>\n",
       "      <td>40.0</td>\n",
       "      <td>48.0</td>\n",
       "      <td>2</td>\n",
       "      <td>1</td>\n",
       "    </tr>\n",
       "  </tbody>\n",
       "</table>\n",
       "<p>758 rows × 14 columns</p>\n",
       "</div>"
      ],
      "text/plain": [
       "          robot_id            rtc  protective_stop  task_state  rapid_rate  \\\n",
       "1511560  Zu7250085  1627886253339                0           4        0.64   \n",
       "40446    Zu3100161  1628637899033                0           4        1.00   \n",
       "1647194  Zu7250396  1627812418756                0           4        1.00   \n",
       "1531875  Zu7250085  1627875274882                0           4        0.29   \n",
       "963563   Zu7250397  1628163987584                0           4        0.50   \n",
       "...            ...            ...              ...         ...         ...   \n",
       "1511926  Zu7250085  1627886059363                0           4        0.64   \n",
       "961070   Zu7250396  1628165628920                0           4        1.00   \n",
       "1531862  Zu7250085  1627875281290                0           4        0.29   \n",
       "1716164  Zu7250396  1627774528265                0           4        1.00   \n",
       "1343143  Zu7210038  1627971101035                0           4        1.00   \n",
       "\n",
       "         sum_running_time  ins_average_power  sum_running_circles  \\\n",
       "1511560           4576548          52.700001        163913.593750   \n",
       "40446            12358252           0.000000        105882.398438   \n",
       "1647194           4444907           0.000000         55359.199219   \n",
       "1531875           4571132          19.600000        163863.093750   \n",
       "963563            1153533           0.000000         50574.199219   \n",
       "...                   ...                ...                  ...   \n",
       "1511926           4576355           7.200000        163892.500000   \n",
       "961070            4525003           0.000000         55370.898438   \n",
       "1531862           4571138           0.000000        163863.203125   \n",
       "1716164           4407008           0.000000         55359.199219   \n",
       "1343143           4476906           0.000000         37225.101563   \n",
       "\n",
       "         joint_actual_position  current_fluctuation  inst_temperature  \\\n",
       "1511560             118.790608                  1.7              39.0   \n",
       "40446                87.266460                  0.5              49.0   \n",
       "1647194              90.004610                  0.1              44.0   \n",
       "1531875              80.999238                  0.6              39.0   \n",
       "963563               62.735370                  0.2              44.0   \n",
       "...                        ...                  ...               ...   \n",
       "1511926             130.234884                  1.0              39.0   \n",
       "961070               90.004610                  0.1              36.0   \n",
       "1531862              79.927111                  0.1              39.0   \n",
       "1716164              90.004610                  0.1              42.0   \n",
       "1343143              89.179930                  0.4              40.0   \n",
       "\n",
       "         inst_voltage  joint  health  \n",
       "1511560          48.0      2       0  \n",
       "40446            48.0      2       1  \n",
       "1647194          48.0      2       1  \n",
       "1531875          48.0      2       0  \n",
       "963563           47.0      2       1  \n",
       "...               ...    ...     ...  \n",
       "1511926          47.0      2       0  \n",
       "961070           48.0      2       1  \n",
       "1531862          48.0      2       0  \n",
       "1716164          48.0      2       1  \n",
       "1343143          48.0      2       1  \n",
       "\n",
       "[758 rows x 14 columns]"
      ]
     },
     "execution_count": 38,
     "metadata": {},
     "output_type": "execute_result"
    }
   ],
   "source": [
    "test = shuffle(test)\n",
    "test"
   ]
  },
  {
   "cell_type": "code",
   "execution_count": 39,
   "id": "5428bf51",
   "metadata": {},
   "outputs": [],
   "source": [
    "test.to_csv('../cz_sh_test_0816.csv')"
   ]
  },
  {
   "cell_type": "code",
   "execution_count": 40,
   "id": "8530679e",
   "metadata": {},
   "outputs": [
    {
     "data": {
      "text/plain": [
       "array(['Zu7250085'], dtype=object)"
      ]
     },
     "execution_count": 40,
     "metadata": {},
     "output_type": "execute_result"
    }
   ],
   "source": [
    "test.loc[test['health']==0,'robot_id'].unique()"
   ]
  },
  {
   "cell_type": "code",
   "execution_count": null,
   "id": "75409933",
   "metadata": {},
   "outputs": [],
   "source": []
  }
 ],
 "metadata": {
  "kernelspec": {
   "display_name": "Python 3 (ipykernel)",
   "language": "python",
   "name": "python3"
  },
  "language_info": {
   "codemirror_mode": {
    "name": "ipython",
    "version": 3
   },
   "file_extension": ".py",
   "mimetype": "text/x-python",
   "name": "python",
   "nbconvert_exporter": "python",
   "pygments_lexer": "ipython3",
   "version": "3.8.10"
  }
 },
 "nbformat": 4,
 "nbformat_minor": 5
}
